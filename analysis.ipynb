{
 "cells": [
  {
   "cell_type": "code",
   "execution_count": 1,
   "metadata": {},
   "outputs": [],
   "source": [
    "import pandas as pd\n",
    "import numpy as np\n",
    "import matplotlib as mpl\n",
    "import matplotlib.pyplot as plt\n",
    "import seaborn as sns"
   ]
  },
  {
   "cell_type": "code",
   "execution_count": 2,
   "metadata": {},
   "outputs": [],
   "source": [
    "df = pd.read_csv(\"data/csv/title_genres.csv\", delimiter=\",\")"
   ]
  },
  {
   "cell_type": "code",
   "execution_count": 23,
   "metadata": {},
   "outputs": [],
   "source": [
    "genres = df.columns"
   ]
  },
  {
   "cell_type": "code",
   "execution_count": 25,
   "metadata": {},
   "outputs": [
    {
     "data": {
      "text/plain": [
       "Index(['action', 'drama', 'fantasy', 'mystery', 'action drama', 'adventure',\n",
       "       'excessive violence', 'horror', 'psychological drama',\n",
       "       'supernatural drama', 'military', 'shounen', 'super power',\n",
       "       'psychological', 'supernatural', 'thriller', 'crime fiction', 'police',\n",
       "       'suspense', 'comedy', 'action comedy', 'fighting-shounen', 'ganbatte',\n",
       "       'school', 'demons', 'historical', 'sci-fi', 'science-fiction', 'parody',\n",
       "       'romance', 'game', 'seinen', 'ghost stories', 'martial arts',\n",
       "       'slice of life', 'sentimental drama', 'music', 'sports', 'ecchi',\n",
       "       'romantic comedy', 'harem', 'mecha', 'vampire', 'gourmet',\n",
       "       'avant garde', 'samurai', 'shoujo', 'mahou shoujo', 'magical girl',\n",
       "       'nonsense-comedy', 'slice of life drama', 'boys love', 'romantic drama',\n",
       "       'dementia', 'eroticism', 'girls love', 'kids', 'indefinite', 'josei',\n",
       "       'space', 'cars', 'cooking', 'racing', 'crime', 'mature', 'medical',\n",
       "       'gore', 'gender bender', 'hentai', 'zombies', 'youth', 'yuri',\n",
       "       'anime influenced', 'tragedy', 'documentary', 'family', 'political',\n",
       "       'workplace', 'yaoi', 'shounen ai', 'isekai', 'tokusatsu', 'friendship',\n",
       "       'erotica', 'magic', 'food', 'shoujo ai', 'law', 'work life',\n",
       "       'award winning', 'doujinshi', 'mahou shounen'],\n",
       "      dtype='object')"
      ]
     },
     "execution_count": 25,
     "metadata": {},
     "output_type": "execute_result"
    }
   ],
   "source": [
    "genres = genres[1:]\n",
    "genres"
   ]
  },
  {
   "cell_type": "code",
   "execution_count": 4,
   "metadata": {},
   "outputs": [
    {
     "name": "stderr",
     "output_type": "stream",
     "text": [
      "d:\\ComputerScience\\BachKhoa\\IntroDataScience\\Anime-Analysis\\venv\\lib\\site-packages\\IPython\\core\\interactiveshell.py:3444: DtypeWarning: Columns (14,15,16,17,18) have mixed types.Specify dtype option on import or set low_memory=False.\n",
      "  exec(code_obj, self.user_global_ns, self.user_ns)\n"
     ]
    }
   ],
   "source": [
    "df2 = pd.read_csv(\"data/csv/title_single_valued_attrs.csv\", delimiter=',')"
   ]
  },
  {
   "cell_type": "code",
   "execution_count": 5,
   "metadata": {},
   "outputs": [],
   "source": [
    "result = pd.concat([df, df2], axis=1)"
   ]
  },
  {
   "cell_type": "code",
   "execution_count": 6,
   "metadata": {},
   "outputs": [],
   "source": [
    "result = result.loc[:,~result.columns.duplicated()]"
   ]
  },
  {
   "cell_type": "code",
   "execution_count": 7,
   "metadata": {},
   "outputs": [
    {
     "data": {
      "text/html": [
       "<div>\n",
       "<style scoped>\n",
       "    .dataframe tbody tr th:only-of-type {\n",
       "        vertical-align: middle;\n",
       "    }\n",
       "\n",
       "    .dataframe tbody tr th {\n",
       "        vertical-align: top;\n",
       "    }\n",
       "\n",
       "    .dataframe thead th {\n",
       "        text-align: right;\n",
       "    }\n",
       "</style>\n",
       "<table border=\"1\" class=\"dataframe\">\n",
       "  <thead>\n",
       "    <tr style=\"text-align: right;\">\n",
       "      <th></th>\n",
       "      <th>title</th>\n",
       "      <th>action</th>\n",
       "      <th>drama</th>\n",
       "      <th>fantasy</th>\n",
       "      <th>mystery</th>\n",
       "      <th>action drama</th>\n",
       "      <th>adventure</th>\n",
       "      <th>excessive violence</th>\n",
       "      <th>horror</th>\n",
       "      <th>psychological drama</th>\n",
       "      <th>...</th>\n",
       "      <th>url</th>\n",
       "      <th>age</th>\n",
       "      <th>mean_score_kitsu</th>\n",
       "      <th>favorite_count_kitsu</th>\n",
       "      <th>rating_rank_kitsu</th>\n",
       "      <th>user_count_kitsu</th>\n",
       "      <th>mean_score_mal</th>\n",
       "      <th>popularity_mal</th>\n",
       "      <th>number_scorer_mal</th>\n",
       "      <th>favorites_mal</th>\n",
       "    </tr>\n",
       "  </thead>\n",
       "  <tbody>\n",
       "    <tr>\n",
       "      <th>0</th>\n",
       "      <td>attack on titan</td>\n",
       "      <td>1</td>\n",
       "      <td>1</td>\n",
       "      <td>1</td>\n",
       "      <td>1</td>\n",
       "      <td>1</td>\n",
       "      <td>1</td>\n",
       "      <td>1</td>\n",
       "      <td>1</td>\n",
       "      <td>1</td>\n",
       "      <td>...</td>\n",
       "      <td>https://www.anisearch.com/anime/8219,attack-on...</td>\n",
       "      <td>r</td>\n",
       "      <td>8.49</td>\n",
       "      <td>6835.0</td>\n",
       "      <td>11.0</td>\n",
       "      <td>350376.0</td>\n",
       "      <td>8.51</td>\n",
       "      <td>3104669.0</td>\n",
       "      <td>2168959.0</td>\n",
       "      <td>137690.0</td>\n",
       "    </tr>\n",
       "    <tr>\n",
       "      <th>1</th>\n",
       "      <td>death note</td>\n",
       "      <td>0</td>\n",
       "      <td>1</td>\n",
       "      <td>1</td>\n",
       "      <td>1</td>\n",
       "      <td>0</td>\n",
       "      <td>0</td>\n",
       "      <td>0</td>\n",
       "      <td>1</td>\n",
       "      <td>1</td>\n",
       "      <td>...</td>\n",
       "      <td>https://www.anisearch.com/anime/3633,death-note</td>\n",
       "      <td>r</td>\n",
       "      <td>8.36</td>\n",
       "      <td>5750.0</td>\n",
       "      <td>25.0</td>\n",
       "      <td>303639.0</td>\n",
       "      <td>8.63</td>\n",
       "      <td>3130472.0</td>\n",
       "      <td>2159771.0</td>\n",
       "      <td>142925.0</td>\n",
       "    </tr>\n",
       "    <tr>\n",
       "      <th>2</th>\n",
       "      <td>my hero academia</td>\n",
       "      <td>1</td>\n",
       "      <td>1</td>\n",
       "      <td>1</td>\n",
       "      <td>0</td>\n",
       "      <td>0</td>\n",
       "      <td>1</td>\n",
       "      <td>0</td>\n",
       "      <td>0</td>\n",
       "      <td>0</td>\n",
       "      <td>...</td>\n",
       "      <td>https://www.anisearch.com/anime/10978,my-hero-...</td>\n",
       "      <td>pg</td>\n",
       "      <td>8.45</td>\n",
       "      <td>4349.0</td>\n",
       "      <td>15.0</td>\n",
       "      <td>325631.0</td>\n",
       "      <td>7.99</td>\n",
       "      <td>2396529.0</td>\n",
       "      <td>1624157.0</td>\n",
       "      <td>50118.0</td>\n",
       "    </tr>\n",
       "    <tr>\n",
       "      <th>3</th>\n",
       "      <td>demon slayer kimetsu no yaiba</td>\n",
       "      <td>1</td>\n",
       "      <td>1</td>\n",
       "      <td>1</td>\n",
       "      <td>0</td>\n",
       "      <td>1</td>\n",
       "      <td>1</td>\n",
       "      <td>1</td>\n",
       "      <td>1</td>\n",
       "      <td>0</td>\n",
       "      <td>...</td>\n",
       "      <td>https://www.anisearch.com/anime/13658,demon-sl...</td>\n",
       "      <td>r</td>\n",
       "      <td>NaN</td>\n",
       "      <td>NaN</td>\n",
       "      <td>NaN</td>\n",
       "      <td>NaN</td>\n",
       "      <td>8.57</td>\n",
       "      <td>2069110.0</td>\n",
       "      <td>1380152.0</td>\n",
       "      <td>67452.0</td>\n",
       "    </tr>\n",
       "    <tr>\n",
       "      <th>4</th>\n",
       "      <td>hunter x hunter 2011</td>\n",
       "      <td>1</td>\n",
       "      <td>0</td>\n",
       "      <td>1</td>\n",
       "      <td>0</td>\n",
       "      <td>0</td>\n",
       "      <td>1</td>\n",
       "      <td>0</td>\n",
       "      <td>0</td>\n",
       "      <td>0</td>\n",
       "      <td>...</td>\n",
       "      <td>NaN</td>\n",
       "      <td>pg</td>\n",
       "      <td>8.43</td>\n",
       "      <td>6271.0</td>\n",
       "      <td>18.0</td>\n",
       "      <td>243790.0</td>\n",
       "      <td>9.06</td>\n",
       "      <td>2123271.0</td>\n",
       "      <td>1245840.0</td>\n",
       "      <td>164535.0</td>\n",
       "    </tr>\n",
       "  </tbody>\n",
       "</table>\n",
       "<p>5 rows × 137 columns</p>\n",
       "</div>"
      ],
      "text/plain": [
       "                           title  action  drama  fantasy  mystery  \\\n",
       "0                attack on titan       1      1        1        1   \n",
       "1                     death note       0      1        1        1   \n",
       "2               my hero academia       1      1        1        0   \n",
       "3  demon slayer kimetsu no yaiba       1      1        1        0   \n",
       "4           hunter x hunter 2011       1      0        1        0   \n",
       "\n",
       "   action drama  adventure  excessive violence  horror  psychological drama  \\\n",
       "0             1          1                   1       1                    1   \n",
       "1             0          0                   0       1                    1   \n",
       "2             0          1                   0       0                    0   \n",
       "3             1          1                   1       1                    0   \n",
       "4             0          1                   0       0                    0   \n",
       "\n",
       "   ...                                                url  age  \\\n",
       "0  ...  https://www.anisearch.com/anime/8219,attack-on...    r   \n",
       "1  ...    https://www.anisearch.com/anime/3633,death-note    r   \n",
       "2  ...  https://www.anisearch.com/anime/10978,my-hero-...   pg   \n",
       "3  ...  https://www.anisearch.com/anime/13658,demon-sl...    r   \n",
       "4  ...                                                NaN   pg   \n",
       "\n",
       "   mean_score_kitsu  favorite_count_kitsu  rating_rank_kitsu  \\\n",
       "0              8.49                6835.0               11.0   \n",
       "1              8.36                5750.0               25.0   \n",
       "2              8.45                4349.0               15.0   \n",
       "3               NaN                   NaN                NaN   \n",
       "4              8.43                6271.0               18.0   \n",
       "\n",
       "   user_count_kitsu  mean_score_mal  popularity_mal  number_scorer_mal  \\\n",
       "0          350376.0            8.51       3104669.0          2168959.0   \n",
       "1          303639.0            8.63       3130472.0          2159771.0   \n",
       "2          325631.0            7.99       2396529.0          1624157.0   \n",
       "3               NaN            8.57       2069110.0          1380152.0   \n",
       "4          243790.0            9.06       2123271.0          1245840.0   \n",
       "\n",
       "   favorites_mal  \n",
       "0       137690.0  \n",
       "1       142925.0  \n",
       "2        50118.0  \n",
       "3        67452.0  \n",
       "4       164535.0  \n",
       "\n",
       "[5 rows x 137 columns]"
      ]
     },
     "execution_count": 7,
     "metadata": {},
     "output_type": "execute_result"
    }
   ],
   "source": [
    "result.head(5)"
   ]
  },
  {
   "cell_type": "code",
   "execution_count": 8,
   "metadata": {},
   "outputs": [
    {
     "data": {
      "text/plain": [
       "30586"
      ]
     },
     "execution_count": 8,
     "metadata": {},
     "output_type": "execute_result"
    }
   ],
   "source": [
    "len(result)"
   ]
  },
  {
   "cell_type": "code",
   "execution_count": 9,
   "metadata": {},
   "outputs": [],
   "source": [
    "magical_girl = result[(result[\"magical girl\"] == 1) & (result[\"mahou shoujo\"] == 0)]"
   ]
  },
  {
   "cell_type": "code",
   "execution_count": 10,
   "metadata": {},
   "outputs": [
    {
     "data": {
      "text/plain": [
       "327"
      ]
     },
     "execution_count": 10,
     "metadata": {},
     "output_type": "execute_result"
    }
   ],
   "source": [
    "len(magical_girl)"
   ]
  },
  {
   "cell_type": "markdown",
   "metadata": {},
   "source": [
    "## Magical girl anime"
   ]
  },
  {
   "cell_type": "code",
   "execution_count": 11,
   "metadata": {},
   "outputs": [
    {
     "data": {
      "text/html": [
       "<div>\n",
       "<style scoped>\n",
       "    .dataframe tbody tr th:only-of-type {\n",
       "        vertical-align: middle;\n",
       "    }\n",
       "\n",
       "    .dataframe tbody tr th {\n",
       "        vertical-align: top;\n",
       "    }\n",
       "\n",
       "    .dataframe thead th {\n",
       "        text-align: right;\n",
       "    }\n",
       "</style>\n",
       "<table border=\"1\" class=\"dataframe\">\n",
       "  <thead>\n",
       "    <tr style=\"text-align: right;\">\n",
       "      <th></th>\n",
       "      <th>title</th>\n",
       "      <th>magical girl</th>\n",
       "      <th>mahou shoujo</th>\n",
       "    </tr>\n",
       "  </thead>\n",
       "  <tbody>\n",
       "    <tr>\n",
       "      <th>373</th>\n",
       "      <td>is this a zombie</td>\n",
       "      <td>1</td>\n",
       "      <td>0</td>\n",
       "    </tr>\n",
       "    <tr>\n",
       "      <th>776</th>\n",
       "      <td>revolutionary girl utena</td>\n",
       "      <td>1</td>\n",
       "      <td>0</td>\n",
       "    </tr>\n",
       "    <tr>\n",
       "      <th>866</th>\n",
       "      <td>ghost stories</td>\n",
       "      <td>1</td>\n",
       "      <td>0</td>\n",
       "    </tr>\n",
       "    <tr>\n",
       "      <th>1196</th>\n",
       "      <td>strike witches</td>\n",
       "      <td>1</td>\n",
       "      <td>0</td>\n",
       "    </tr>\n",
       "    <tr>\n",
       "      <th>1623</th>\n",
       "      <td>negima</td>\n",
       "      <td>1</td>\n",
       "      <td>0</td>\n",
       "    </tr>\n",
       "    <tr>\n",
       "      <th>...</th>\n",
       "      <td>...</td>\n",
       "      <td>...</td>\n",
       "      <td>...</td>\n",
       "    </tr>\n",
       "    <tr>\n",
       "      <th>22912</th>\n",
       "      <td>yes precure 5 go go</td>\n",
       "      <td>1</td>\n",
       "      <td>0</td>\n",
       "    </tr>\n",
       "    <tr>\n",
       "      <th>23002</th>\n",
       "      <td>yuki yuna is a hero a sunny place</td>\n",
       "      <td>1</td>\n",
       "      <td>0</td>\n",
       "    </tr>\n",
       "    <tr>\n",
       "      <th>23003</th>\n",
       "      <td>yuki yuna is a hero</td>\n",
       "      <td>1</td>\n",
       "      <td>0</td>\n",
       "    </tr>\n",
       "    <tr>\n",
       "      <th>23019</th>\n",
       "      <td>yuki yuna is a hero hero chapter</td>\n",
       "      <td>1</td>\n",
       "      <td>0</td>\n",
       "    </tr>\n",
       "    <tr>\n",
       "      <th>23020</th>\n",
       "      <td>yuki yuna is a hero great mankai chapter</td>\n",
       "      <td>1</td>\n",
       "      <td>0</td>\n",
       "    </tr>\n",
       "  </tbody>\n",
       "</table>\n",
       "<p>327 rows × 3 columns</p>\n",
       "</div>"
      ],
      "text/plain": [
       "                                          title  magical girl  mahou shoujo\n",
       "373                            is this a zombie             1             0\n",
       "776                    revolutionary girl utena             1             0\n",
       "866                               ghost stories             1             0\n",
       "1196                             strike witches             1             0\n",
       "1623                                     negima             1             0\n",
       "...                                         ...           ...           ...\n",
       "22912                       yes precure 5 go go             1             0\n",
       "23002         yuki yuna is a hero a sunny place             1             0\n",
       "23003                       yuki yuna is a hero             1             0\n",
       "23019          yuki yuna is a hero hero chapter             1             0\n",
       "23020  yuki yuna is a hero great mankai chapter             1             0\n",
       "\n",
       "[327 rows x 3 columns]"
      ]
     },
     "execution_count": 11,
     "metadata": {},
     "output_type": "execute_result"
    }
   ],
   "source": [
    "magical_girl[[\"title\", \"magical girl\", \"mahou shoujo\"]]"
   ]
  },
  {
   "cell_type": "code",
   "execution_count": 12,
   "metadata": {},
   "outputs": [],
   "source": [
    "mahou_shoujo = result[(result[\"magical girl\"] == 0) & (result[\"mahou shoujo\"] == 1)]"
   ]
  },
  {
   "cell_type": "code",
   "execution_count": 13,
   "metadata": {},
   "outputs": [
    {
     "data": {
      "text/plain": [
       "219"
      ]
     },
     "execution_count": 13,
     "metadata": {},
     "output_type": "execute_result"
    }
   ],
   "source": [
    "len(mahou_shoujo)"
   ]
  },
  {
   "cell_type": "code",
   "execution_count": 14,
   "metadata": {},
   "outputs": [
    {
     "data": {
      "text/html": [
       "<div>\n",
       "<style scoped>\n",
       "    .dataframe tbody tr th:only-of-type {\n",
       "        vertical-align: middle;\n",
       "    }\n",
       "\n",
       "    .dataframe tbody tr th {\n",
       "        vertical-align: top;\n",
       "    }\n",
       "\n",
       "    .dataframe thead th {\n",
       "        text-align: right;\n",
       "    }\n",
       "</style>\n",
       "<table border=\"1\" class=\"dataframe\">\n",
       "  <thead>\n",
       "    <tr style=\"text-align: right;\">\n",
       "      <th></th>\n",
       "      <th>title</th>\n",
       "      <th>magical girl</th>\n",
       "      <th>mahou shoujo</th>\n",
       "    </tr>\n",
       "  </thead>\n",
       "  <tbody>\n",
       "    <tr>\n",
       "      <th>444</th>\n",
       "      <td>puella magi madoka magica the movie part iii r...</td>\n",
       "      <td>0</td>\n",
       "      <td>1</td>\n",
       "    </tr>\n",
       "    <tr>\n",
       "      <th>528</th>\n",
       "      <td>cardcaptor sakura</td>\n",
       "      <td>0</td>\n",
       "      <td>1</td>\n",
       "    </tr>\n",
       "    <tr>\n",
       "      <th>656</th>\n",
       "      <td>fatekaleid liner prisma☆illya</td>\n",
       "      <td>0</td>\n",
       "      <td>1</td>\n",
       "    </tr>\n",
       "    <tr>\n",
       "      <th>737</th>\n",
       "      <td>azumanga daioh</td>\n",
       "      <td>0</td>\n",
       "      <td>1</td>\n",
       "    </tr>\n",
       "    <tr>\n",
       "      <th>941</th>\n",
       "      <td>puella magi madoka magica the movie part i beg...</td>\n",
       "      <td>0</td>\n",
       "      <td>1</td>\n",
       "    </tr>\n",
       "    <tr>\n",
       "      <th>...</th>\n",
       "      <td>...</td>\n",
       "      <td>...</td>\n",
       "      <td>...</td>\n",
       "    </tr>\n",
       "    <tr>\n",
       "      <th>14097</th>\n",
       "      <td>mahou no tenshi creamy mami no otogibanashi</td>\n",
       "      <td>0</td>\n",
       "      <td>1</td>\n",
       "    </tr>\n",
       "    <tr>\n",
       "      <th>14341</th>\n",
       "      <td>ak mofa shaonü</td>\n",
       "      <td>0</td>\n",
       "      <td>1</td>\n",
       "    </tr>\n",
       "    <tr>\n",
       "      <th>14355</th>\n",
       "      <td>balala xiao moxian mofa hai ying bao 2</td>\n",
       "      <td>0</td>\n",
       "      <td>1</td>\n",
       "    </tr>\n",
       "    <tr>\n",
       "      <th>14445</th>\n",
       "      <td>xiao hua xian 5 sishi hua yu chun xia 2 xia</td>\n",
       "      <td>0</td>\n",
       "      <td>1</td>\n",
       "    </tr>\n",
       "    <tr>\n",
       "      <th>14465</th>\n",
       "      <td>xiao hua da dianying qiji shaonü</td>\n",
       "      <td>0</td>\n",
       "      <td>1</td>\n",
       "    </tr>\n",
       "  </tbody>\n",
       "</table>\n",
       "<p>219 rows × 3 columns</p>\n",
       "</div>"
      ],
      "text/plain": [
       "                                                   title  magical girl  \\\n",
       "444    puella magi madoka magica the movie part iii r...             0   \n",
       "528                                    cardcaptor sakura             0   \n",
       "656                        fatekaleid liner prisma☆illya             0   \n",
       "737                                       azumanga daioh             0   \n",
       "941    puella magi madoka magica the movie part i beg...             0   \n",
       "...                                                  ...           ...   \n",
       "14097        mahou no tenshi creamy mami no otogibanashi             0   \n",
       "14341                                     ak mofa shaonü             0   \n",
       "14355             balala xiao moxian mofa hai ying bao 2             0   \n",
       "14445        xiao hua xian 5 sishi hua yu chun xia 2 xia             0   \n",
       "14465                   xiao hua da dianying qiji shaonü             0   \n",
       "\n",
       "       mahou shoujo  \n",
       "444               1  \n",
       "528               1  \n",
       "656               1  \n",
       "737               1  \n",
       "941               1  \n",
       "...             ...  \n",
       "14097             1  \n",
       "14341             1  \n",
       "14355             1  \n",
       "14445             1  \n",
       "14465             1  \n",
       "\n",
       "[219 rows x 3 columns]"
      ]
     },
     "execution_count": 14,
     "metadata": {},
     "output_type": "execute_result"
    }
   ],
   "source": [
    "mahou_shoujo[[\"title\", \"magical girl\", \"mahou shoujo\"]]"
   ]
  },
  {
   "cell_type": "code",
   "execution_count": 15,
   "metadata": {},
   "outputs": [
    {
     "data": {
      "text/plain": [
       "title                puella magi madoka magica the movie part iii r...\n",
       "action                                                               0\n",
       "drama                                                                1\n",
       "fantasy                                                              1\n",
       "mystery                                                              1\n",
       "                                           ...                        \n",
       "user_count_kitsu                                                   NaN\n",
       "mean_score_mal                                                     NaN\n",
       "popularity_mal                                                     NaN\n",
       "number_scorer_mal                                                  NaN\n",
       "favorites_mal                                                      NaN\n",
       "Name: 444, Length: 137, dtype: object"
      ]
     },
     "execution_count": 15,
     "metadata": {},
     "output_type": "execute_result"
    }
   ],
   "source": [
    "result.iloc[444]"
   ]
  },
  {
   "cell_type": "markdown",
   "metadata": {},
   "source": [
    "## Box plot & Violin plot"
   ]
  },
  {
   "cell_type": "markdown",
   "metadata": {},
   "source": [
    "### Action anime"
   ]
  },
  {
   "cell_type": "code",
   "execution_count": 16,
   "metadata": {},
   "outputs": [],
   "source": [
    "action_anime = result[result[\"action\"] == 1]"
   ]
  },
  {
   "cell_type": "code",
   "execution_count": 17,
   "metadata": {},
   "outputs": [
    {
     "data": {
      "text/plain": [
       "8326"
      ]
     },
     "execution_count": 17,
     "metadata": {},
     "output_type": "execute_result"
    }
   ],
   "source": [
    "len(action_anime)"
   ]
  },
  {
   "cell_type": "code",
   "execution_count": 18,
   "metadata": {},
   "outputs": [
    {
     "data": {
      "text/html": [
       "<div>\n",
       "<style scoped>\n",
       "    .dataframe tbody tr th:only-of-type {\n",
       "        vertical-align: middle;\n",
       "    }\n",
       "\n",
       "    .dataframe tbody tr th {\n",
       "        vertical-align: top;\n",
       "    }\n",
       "\n",
       "    .dataframe thead th {\n",
       "        text-align: right;\n",
       "    }\n",
       "</style>\n",
       "<table border=\"1\" class=\"dataframe\">\n",
       "  <thead>\n",
       "    <tr style=\"text-align: right;\">\n",
       "      <th></th>\n",
       "      <th>title</th>\n",
       "      <th>action</th>\n",
       "      <th>drama</th>\n",
       "      <th>fantasy</th>\n",
       "      <th>mystery</th>\n",
       "      <th>action drama</th>\n",
       "      <th>adventure</th>\n",
       "      <th>excessive violence</th>\n",
       "      <th>horror</th>\n",
       "      <th>psychological drama</th>\n",
       "      <th>...</th>\n",
       "      <th>url</th>\n",
       "      <th>age</th>\n",
       "      <th>mean_score_kitsu</th>\n",
       "      <th>favorite_count_kitsu</th>\n",
       "      <th>rating_rank_kitsu</th>\n",
       "      <th>user_count_kitsu</th>\n",
       "      <th>mean_score_mal</th>\n",
       "      <th>popularity_mal</th>\n",
       "      <th>number_scorer_mal</th>\n",
       "      <th>favorites_mal</th>\n",
       "    </tr>\n",
       "  </thead>\n",
       "  <tbody>\n",
       "    <tr>\n",
       "      <th>0</th>\n",
       "      <td>attack on titan</td>\n",
       "      <td>1</td>\n",
       "      <td>1</td>\n",
       "      <td>1</td>\n",
       "      <td>1</td>\n",
       "      <td>1</td>\n",
       "      <td>1</td>\n",
       "      <td>1</td>\n",
       "      <td>1</td>\n",
       "      <td>1</td>\n",
       "      <td>...</td>\n",
       "      <td>https://www.anisearch.com/anime/8219,attack-on...</td>\n",
       "      <td>r</td>\n",
       "      <td>8.49</td>\n",
       "      <td>6835.0</td>\n",
       "      <td>11.0</td>\n",
       "      <td>350376.0</td>\n",
       "      <td>8.51</td>\n",
       "      <td>3104669.0</td>\n",
       "      <td>2168959.0</td>\n",
       "      <td>137690.0</td>\n",
       "    </tr>\n",
       "    <tr>\n",
       "      <th>2</th>\n",
       "      <td>my hero academia</td>\n",
       "      <td>1</td>\n",
       "      <td>1</td>\n",
       "      <td>1</td>\n",
       "      <td>0</td>\n",
       "      <td>0</td>\n",
       "      <td>1</td>\n",
       "      <td>0</td>\n",
       "      <td>0</td>\n",
       "      <td>0</td>\n",
       "      <td>...</td>\n",
       "      <td>https://www.anisearch.com/anime/10978,my-hero-...</td>\n",
       "      <td>pg</td>\n",
       "      <td>8.45</td>\n",
       "      <td>4349.0</td>\n",
       "      <td>15.0</td>\n",
       "      <td>325631.0</td>\n",
       "      <td>7.99</td>\n",
       "      <td>2396529.0</td>\n",
       "      <td>1624157.0</td>\n",
       "      <td>50118.0</td>\n",
       "    </tr>\n",
       "    <tr>\n",
       "      <th>3</th>\n",
       "      <td>demon slayer kimetsu no yaiba</td>\n",
       "      <td>1</td>\n",
       "      <td>1</td>\n",
       "      <td>1</td>\n",
       "      <td>0</td>\n",
       "      <td>1</td>\n",
       "      <td>1</td>\n",
       "      <td>1</td>\n",
       "      <td>1</td>\n",
       "      <td>0</td>\n",
       "      <td>...</td>\n",
       "      <td>https://www.anisearch.com/anime/13658,demon-sl...</td>\n",
       "      <td>r</td>\n",
       "      <td>NaN</td>\n",
       "      <td>NaN</td>\n",
       "      <td>NaN</td>\n",
       "      <td>NaN</td>\n",
       "      <td>8.57</td>\n",
       "      <td>2069110.0</td>\n",
       "      <td>1380152.0</td>\n",
       "      <td>67452.0</td>\n",
       "    </tr>\n",
       "    <tr>\n",
       "      <th>4</th>\n",
       "      <td>hunter x hunter 2011</td>\n",
       "      <td>1</td>\n",
       "      <td>0</td>\n",
       "      <td>1</td>\n",
       "      <td>0</td>\n",
       "      <td>0</td>\n",
       "      <td>1</td>\n",
       "      <td>0</td>\n",
       "      <td>0</td>\n",
       "      <td>0</td>\n",
       "      <td>...</td>\n",
       "      <td>NaN</td>\n",
       "      <td>pg</td>\n",
       "      <td>8.43</td>\n",
       "      <td>6271.0</td>\n",
       "      <td>18.0</td>\n",
       "      <td>243790.0</td>\n",
       "      <td>9.06</td>\n",
       "      <td>2123271.0</td>\n",
       "      <td>1245840.0</td>\n",
       "      <td>164535.0</td>\n",
       "    </tr>\n",
       "    <tr>\n",
       "      <th>5</th>\n",
       "      <td>onepunch man</td>\n",
       "      <td>1</td>\n",
       "      <td>0</td>\n",
       "      <td>1</td>\n",
       "      <td>0</td>\n",
       "      <td>0</td>\n",
       "      <td>0</td>\n",
       "      <td>0</td>\n",
       "      <td>0</td>\n",
       "      <td>0</td>\n",
       "      <td>...</td>\n",
       "      <td>https://www.anisearch.com/anime/10317,one-punc...</td>\n",
       "      <td>r</td>\n",
       "      <td>8.35</td>\n",
       "      <td>3384.0</td>\n",
       "      <td>26.0</td>\n",
       "      <td>341696.0</td>\n",
       "      <td>8.52</td>\n",
       "      <td>2554288.0</td>\n",
       "      <td>1756696.0</td>\n",
       "      <td>53626.0</td>\n",
       "    </tr>\n",
       "  </tbody>\n",
       "</table>\n",
       "<p>5 rows × 137 columns</p>\n",
       "</div>"
      ],
      "text/plain": [
       "                           title  action  drama  fantasy  mystery  \\\n",
       "0                attack on titan       1      1        1        1   \n",
       "2               my hero academia       1      1        1        0   \n",
       "3  demon slayer kimetsu no yaiba       1      1        1        0   \n",
       "4           hunter x hunter 2011       1      0        1        0   \n",
       "5                   onepunch man       1      0        1        0   \n",
       "\n",
       "   action drama  adventure  excessive violence  horror  psychological drama  \\\n",
       "0             1          1                   1       1                    1   \n",
       "2             0          1                   0       0                    0   \n",
       "3             1          1                   1       1                    0   \n",
       "4             0          1                   0       0                    0   \n",
       "5             0          0                   0       0                    0   \n",
       "\n",
       "   ...                                                url  age  \\\n",
       "0  ...  https://www.anisearch.com/anime/8219,attack-on...    r   \n",
       "2  ...  https://www.anisearch.com/anime/10978,my-hero-...   pg   \n",
       "3  ...  https://www.anisearch.com/anime/13658,demon-sl...    r   \n",
       "4  ...                                                NaN   pg   \n",
       "5  ...  https://www.anisearch.com/anime/10317,one-punc...    r   \n",
       "\n",
       "   mean_score_kitsu  favorite_count_kitsu  rating_rank_kitsu  \\\n",
       "0              8.49                6835.0               11.0   \n",
       "2              8.45                4349.0               15.0   \n",
       "3               NaN                   NaN                NaN   \n",
       "4              8.43                6271.0               18.0   \n",
       "5              8.35                3384.0               26.0   \n",
       "\n",
       "   user_count_kitsu  mean_score_mal  popularity_mal  number_scorer_mal  \\\n",
       "0          350376.0            8.51       3104669.0          2168959.0   \n",
       "2          325631.0            7.99       2396529.0          1624157.0   \n",
       "3               NaN            8.57       2069110.0          1380152.0   \n",
       "4          243790.0            9.06       2123271.0          1245840.0   \n",
       "5          341696.0            8.52       2554288.0          1756696.0   \n",
       "\n",
       "   favorites_mal  \n",
       "0       137690.0  \n",
       "2        50118.0  \n",
       "3        67452.0  \n",
       "4       164535.0  \n",
       "5        53626.0  \n",
       "\n",
       "[5 rows x 137 columns]"
      ]
     },
     "execution_count": 18,
     "metadata": {},
     "output_type": "execute_result"
    }
   ],
   "source": [
    "action_anime.head()"
   ]
  },
  {
   "cell_type": "code",
   "execution_count": 19,
   "metadata": {},
   "outputs": [
    {
     "name": "stderr",
     "output_type": "stream",
     "text": [
      "d:\\ComputerScience\\BachKhoa\\IntroDataScience\\Anime-Analysis\\venv\\lib\\site-packages\\ipykernel_launcher.py:1: SettingWithCopyWarning: \n",
      "A value is trying to be set on a copy of a slice from a DataFrame.\n",
      "Try using .loc[row_indexer,col_indexer] = value instead\n",
      "\n",
      "See the caveats in the documentation: https://pandas.pydata.org/pandas-docs/stable/user_guide/indexing.html#returning-a-view-versus-a-copy\n",
      "  \"\"\"Entry point for launching an IPython kernel.\n"
     ]
    }
   ],
   "source": [
    "action_anime[\"mean_score_anilist\"] = action_anime[\"mean_score_anilist\"].apply(lambda x: x*10)"
   ]
  },
  {
   "cell_type": "code",
   "execution_count": 20,
   "metadata": {},
   "outputs": [
    {
     "data": {
      "text/plain": [
       "<AxesSubplot:>"
      ]
     },
     "execution_count": 20,
     "metadata": {},
     "output_type": "execute_result"
    },
    {
     "data": {
      "image/png": "[encoded data removed]",
      "text/plain": [
       "<Figure size 432x288 with 1 Axes>"
      ]
     },
     "metadata": {
      "needs_background": "light"
     },
     "output_type": "display_data"
    }
   ],
   "source": [
    "action_anime.boxplot(column=[\"mean_score_mal\", \"mean_score_kitsu\", \"mean_score_anilist\", \"mean_score_anisearch\"])"
   ]
  },
  {
   "cell_type": "code",
   "execution_count": 21,
   "metadata": {},
   "outputs": [
    {
     "data": {
      "text/plain": [
       "<AxesSubplot:ylabel='mean_score_anilist'>"
      ]
     },
     "execution_count": 21,
     "metadata": {},
     "output_type": "execute_result"
    },
    {
     "data": {
      "image/png": "[encoded data removed]",
      "text/plain": [
       "<Figure size 432x288 with 2 Axes>"
      ]
     },
     "metadata": {
      "needs_background": "light"
     },
     "output_type": "display_data"
    }
   ],
   "source": [
    "fig, axs = plt.subplots(ncols=2)\n",
    "sns.violinplot(y=action_anime[\"mean_score_mal\"], ax=axs[0], orient=\"v\")\n",
    "sns.violinplot(y=action_anime[\"mean_score_anilist\"], ax=axs[1], orient=\"v\")"
   ]
  },
  {
   "cell_type": "code",
   "execution_count": 22,
   "metadata": {},
   "outputs": [],
   "source": [
    "action_anime = result[result[\"drama\"] == 1]"
   ]
  },
  {
   "cell_type": "markdown",
   "metadata": {},
   "source": [
    "### All genres"
   ]
  },
  {
   "cell_type": "code",
   "execution_count": 35,
   "metadata": {},
   "outputs": [
    {
     "data": {
      "image/png": "[encoded data removed]",
      "text/plain": [
       "<Figure size 1080x1080 with 3 Axes>"
      ]
     },
     "metadata": {
      "needs_background": "light"
     },
     "output_type": "display_data"
    }
   ],
   "source": [
    "fig, axs = plt.subplots(ncols=3, figsize=(15, 15))\n",
    "for idx, genre in enumerate(genres[:3]):\n",
    "    anime = result[result[genre] == 1]\n",
    "    ax = sns.violinplot(y=anime[\"mean_score_mal\"], ax=axs[idx])\n",
    "    ax.set_xticklabels([genre])"
   ]
  },
  {
   "cell_type": "code",
   "execution_count": null,
   "metadata": {},
   "outputs": [],
   "source": []
  }
 ],
 "metadata": {
  "interpreter": {
   "hash": "383942aaa4fbde95bcef855f55f7bc3d906b4ae0c51fc148546d9627e19ace5f"
  },
  "kernelspec": {
   "display_name": "Python 3.7.9 64-bit ('venv': venv)",
   "language": "python",
   "name": "python3"
  },
  "language_info": {
   "codemirror_mode": {
    "name": "ipython",
    "version": 3
   },
   "file_extension": ".py",
   "mimetype": "text/x-python",
   "name": "python",
   "nbconvert_exporter": "python",
   "pygments_lexer": "ipython3",
   "version": "3.7.9"
  },
  "orig_nbformat": 4
 },
 "nbformat": 4,
 "nbformat_minor": 2
}
