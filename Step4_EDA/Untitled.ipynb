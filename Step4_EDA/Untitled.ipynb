{
 "cells": [
  {
   "cell_type": "code",
   "execution_count": null,
   "id": "6199cf2b",
   "metadata": {},
   "outputs": [],
   "source": [
    "import pandas as pd\n",
    "import numpy as np\n",
    "import matplotlib.pyplot as plt\n",
    "import seaborn as sns"
   ]
  },
  {
   "cell_type": "code",
   "execution_count": null,
   "id": "2b477e25",
   "metadata": {},
   "outputs": [],
   "source": [
    "genre_num = 30\n",
    "actor_num = 30"
   ]
  },
  {
   "cell_type": "code",
   "execution_count": null,
   "id": "08382b56",
   "metadata": {},
   "outputs": [],
   "source": [
    "title_actor_df = pd.read_csv('../data/csv/title_voice_actors.csv')\n",
    "title_actor_df.head()"
   ]
  },
  {
   "cell_type": "code",
   "execution_count": null,
   "id": "481e7efb",
   "metadata": {},
   "outputs": [],
   "source": [
    "title_actor_df.shape"
   ]
  },
  {
   "cell_type": "code",
   "execution_count": null,
   "id": "dfba988d",
   "metadata": {},
   "outputs": [],
   "source": [
    "actor_anime_count = title_actor_df.sum(axis = 0, numeric_only =True)"
   ]
  },
  {
   "cell_type": "code",
   "execution_count": null,
   "id": "37e0ebf4",
   "metadata": {},
   "outputs": [],
   "source": [
    "popular_actors = actor_anime_count.nlargest(actor_num)"
   ]
  },
  {
   "cell_type": "code",
   "execution_count": null,
   "id": "50977eb2",
   "metadata": {},
   "outputs": [],
   "source": [
    "fig = plt.figure(figsize = (15, 12))\n",
    "bpopular_actors.plot.bar(x = 'Actor', y = 'Anime', rot = 75)\n",
    "plt.xticks(fontsize=14)\n",
    "plt.yticks(fontsize=14)\n",
    "plt.show()"
   ]
  },
  {
   "cell_type": "code",
   "execution_count": null,
   "id": "3392f6da",
   "metadata": {},
   "outputs": [],
   "source": [
    "popular_actors_list = popular_actors.index.tolist()"
   ]
  },
  {
   "cell_type": "code",
   "execution_count": null,
   "id": "f5cef395",
   "metadata": {},
   "outputs": [],
   "source": []
  }
 ],
 "metadata": {
  "kernelspec": {
   "display_name": "Python 3",
   "language": "python",
   "name": "python3"
  },
  "language_info": {
   "codemirror_mode": {
    "name": "ipython",
    "version": 3
   },
   "file_extension": ".py",
   "mimetype": "text/x-python",
   "name": "python",
   "nbconvert_exporter": "python",
   "pygments_lexer": "ipython3",
   "version": "3.8.8"
  }
 },
 "nbformat": 4,
 "nbformat_minor": 5
}
