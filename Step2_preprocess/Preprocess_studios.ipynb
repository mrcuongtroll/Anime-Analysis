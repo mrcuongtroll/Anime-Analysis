{
 "cells": [
  {
   "cell_type": "code",
   "execution_count": 1,
   "id": "ca0679c0",
   "metadata": {},
   "outputs": [],
   "source": [
    "import pandas as pd"
   ]
  },
  {
   "cell_type": "code",
   "execution_count": 2,
   "id": "21d39a2f",
   "metadata": {},
   "outputs": [],
   "source": [
    "df = pd.read_csv('../data/csv/title_studios.csv')"
   ]
  },
  {
   "cell_type": "code",
   "execution_count": 3,
   "id": "3a85913f",
   "metadata": {},
   "outputs": [
    {
     "data": {
      "text/html": [
       "<div>\n",
       "<style scoped>\n",
       "    .dataframe tbody tr th:only-of-type {\n",
       "        vertical-align: middle;\n",
       "    }\n",
       "\n",
       "    .dataframe tbody tr th {\n",
       "        vertical-align: top;\n",
       "    }\n",
       "\n",
       "    .dataframe thead th {\n",
       "        text-align: right;\n",
       "    }\n",
       "</style>\n",
       "<table border=\"1\" class=\"dataframe\">\n",
       "  <thead>\n",
       "    <tr style=\"text-align: right;\">\n",
       "      <th></th>\n",
       "      <th>title</th>\n",
       "      <th>wit studio</th>\n",
       "      <th>madhouse</th>\n",
       "      <th>bones</th>\n",
       "      <th>ufotable</th>\n",
       "      <th>a-1 pictures</th>\n",
       "      <th>studio pierrot</th>\n",
       "      <th>mappa</th>\n",
       "      <th>cloverworks</th>\n",
       "      <th>comix wave</th>\n",
       "      <th>...</th>\n",
       "      <th>ekakiya</th>\n",
       "      <th>earth design works</th>\n",
       "      <th>enjin productions</th>\n",
       "      <th>sek studios</th>\n",
       "      <th>super brain</th>\n",
       "      <th>studio kingyoiro</th>\n",
       "      <th>three-d</th>\n",
       "      <th>boyan pictures</th>\n",
       "      <th>composition inc.</th>\n",
       "      <th>triopen studio</th>\n",
       "    </tr>\n",
       "  </thead>\n",
       "  <tbody>\n",
       "    <tr>\n",
       "      <th>0</th>\n",
       "      <td>attack on titan</td>\n",
       "      <td>1</td>\n",
       "      <td>0</td>\n",
       "      <td>0</td>\n",
       "      <td>0</td>\n",
       "      <td>0</td>\n",
       "      <td>0</td>\n",
       "      <td>0</td>\n",
       "      <td>0</td>\n",
       "      <td>0</td>\n",
       "      <td>...</td>\n",
       "      <td>0</td>\n",
       "      <td>0</td>\n",
       "      <td>0</td>\n",
       "      <td>0</td>\n",
       "      <td>0</td>\n",
       "      <td>0</td>\n",
       "      <td>0</td>\n",
       "      <td>0</td>\n",
       "      <td>0</td>\n",
       "      <td>0</td>\n",
       "    </tr>\n",
       "    <tr>\n",
       "      <th>1</th>\n",
       "      <td>death note</td>\n",
       "      <td>0</td>\n",
       "      <td>1</td>\n",
       "      <td>0</td>\n",
       "      <td>0</td>\n",
       "      <td>0</td>\n",
       "      <td>0</td>\n",
       "      <td>0</td>\n",
       "      <td>0</td>\n",
       "      <td>0</td>\n",
       "      <td>...</td>\n",
       "      <td>0</td>\n",
       "      <td>0</td>\n",
       "      <td>0</td>\n",
       "      <td>0</td>\n",
       "      <td>0</td>\n",
       "      <td>0</td>\n",
       "      <td>0</td>\n",
       "      <td>0</td>\n",
       "      <td>0</td>\n",
       "      <td>0</td>\n",
       "    </tr>\n",
       "    <tr>\n",
       "      <th>2</th>\n",
       "      <td>my hero academia</td>\n",
       "      <td>0</td>\n",
       "      <td>0</td>\n",
       "      <td>1</td>\n",
       "      <td>0</td>\n",
       "      <td>0</td>\n",
       "      <td>0</td>\n",
       "      <td>0</td>\n",
       "      <td>0</td>\n",
       "      <td>0</td>\n",
       "      <td>...</td>\n",
       "      <td>0</td>\n",
       "      <td>0</td>\n",
       "      <td>0</td>\n",
       "      <td>0</td>\n",
       "      <td>0</td>\n",
       "      <td>0</td>\n",
       "      <td>0</td>\n",
       "      <td>0</td>\n",
       "      <td>0</td>\n",
       "      <td>0</td>\n",
       "    </tr>\n",
       "    <tr>\n",
       "      <th>3</th>\n",
       "      <td>demon slayer kimetsu no yaiba</td>\n",
       "      <td>0</td>\n",
       "      <td>0</td>\n",
       "      <td>0</td>\n",
       "      <td>1</td>\n",
       "      <td>0</td>\n",
       "      <td>0</td>\n",
       "      <td>0</td>\n",
       "      <td>0</td>\n",
       "      <td>0</td>\n",
       "      <td>...</td>\n",
       "      <td>0</td>\n",
       "      <td>0</td>\n",
       "      <td>0</td>\n",
       "      <td>0</td>\n",
       "      <td>0</td>\n",
       "      <td>0</td>\n",
       "      <td>0</td>\n",
       "      <td>0</td>\n",
       "      <td>0</td>\n",
       "      <td>0</td>\n",
       "    </tr>\n",
       "    <tr>\n",
       "      <th>4</th>\n",
       "      <td>hunter x hunter 2011</td>\n",
       "      <td>0</td>\n",
       "      <td>1</td>\n",
       "      <td>0</td>\n",
       "      <td>0</td>\n",
       "      <td>0</td>\n",
       "      <td>0</td>\n",
       "      <td>0</td>\n",
       "      <td>0</td>\n",
       "      <td>0</td>\n",
       "      <td>...</td>\n",
       "      <td>0</td>\n",
       "      <td>0</td>\n",
       "      <td>0</td>\n",
       "      <td>0</td>\n",
       "      <td>0</td>\n",
       "      <td>0</td>\n",
       "      <td>0</td>\n",
       "      <td>0</td>\n",
       "      <td>0</td>\n",
       "      <td>0</td>\n",
       "    </tr>\n",
       "  </tbody>\n",
       "</table>\n",
       "<p>5 rows × 1386 columns</p>\n",
       "</div>"
      ],
      "text/plain": [
       "                           title  wit studio  madhouse  bones  ufotable  \\\n",
       "0                attack on titan           1         0      0         0   \n",
       "1                     death note           0         1      0         0   \n",
       "2               my hero academia           0         0      1         0   \n",
       "3  demon slayer kimetsu no yaiba           0         0      0         1   \n",
       "4           hunter x hunter 2011           0         1      0         0   \n",
       "\n",
       "   a-1 pictures  studio pierrot  mappa  cloverworks  comix wave  ...  ekakiya  \\\n",
       "0             0               0      0            0           0  ...        0   \n",
       "1             0               0      0            0           0  ...        0   \n",
       "2             0               0      0            0           0  ...        0   \n",
       "3             0               0      0            0           0  ...        0   \n",
       "4             0               0      0            0           0  ...        0   \n",
       "\n",
       "   earth design works  enjin productions  sek studios  super brain  \\\n",
       "0                   0                  0            0            0   \n",
       "1                   0                  0            0            0   \n",
       "2                   0                  0            0            0   \n",
       "3                   0                  0            0            0   \n",
       "4                   0                  0            0            0   \n",
       "\n",
       "   studio kingyoiro  three-d  boyan pictures  composition inc.  triopen studio  \n",
       "0                 0        0               0                 0               0  \n",
       "1                 0        0               0                 0               0  \n",
       "2                 0        0               0                 0               0  \n",
       "3                 0        0               0                 0               0  \n",
       "4                 0        0               0                 0               0  \n",
       "\n",
       "[5 rows x 1386 columns]"
      ]
     },
     "execution_count": 3,
     "metadata": {},
     "output_type": "execute_result"
    }
   ],
   "source": [
    "df.head()"
   ]
  },
  {
   "cell_type": "code",
   "execution_count": 4,
   "id": "1ff1ae7e",
   "metadata": {},
   "outputs": [
    {
     "data": {
      "text/plain": [
       "(30586, 1386)"
      ]
     },
     "execution_count": 4,
     "metadata": {},
     "output_type": "execute_result"
    }
   ],
   "source": [
    "df.shape"
   ]
  },
  {
   "cell_type": "markdown",
   "id": "49c04c0c",
   "metadata": {},
   "source": [
    "# Drop records that don't have any studio"
   ]
  },
  {
   "cell_type": "code",
   "execution_count": 5,
   "id": "f2a146e1",
   "metadata": {},
   "outputs": [],
   "source": [
    "df['studio_count'] = df.sum(axis=1)"
   ]
  },
  {
   "cell_type": "code",
   "execution_count": 6,
   "id": "e633cb24",
   "metadata": {},
   "outputs": [
    {
     "data": {
      "text/plain": [
       "1010"
      ]
     },
     "execution_count": 6,
     "metadata": {},
     "output_type": "execute_result"
    }
   ],
   "source": [
    "df[df['studio_count']>1].shape[0]"
   ]
  },
  {
   "cell_type": "code",
   "execution_count": 7,
   "id": "7c38b2f5",
   "metadata": {},
   "outputs": [
    {
     "data": {
      "text/plain": [
       "14516"
      ]
     },
     "execution_count": 7,
     "metadata": {},
     "output_type": "execute_result"
    }
   ],
   "source": [
    "df[df['studio_count']==0].shape[0]"
   ]
  },
  {
   "cell_type": "code",
   "execution_count": 8,
   "id": "9ee1b761",
   "metadata": {},
   "outputs": [],
   "source": [
    "df.drop(df[df['studio_count']==0].index, inplace = True)"
   ]
  },
  {
   "cell_type": "code",
   "execution_count": 9,
   "id": "5dd4c1c7",
   "metadata": {},
   "outputs": [
    {
     "data": {
      "text/plain": [
       "16070"
      ]
     },
     "execution_count": 9,
     "metadata": {},
     "output_type": "execute_result"
    }
   ],
   "source": [
    "df.shape[0]"
   ]
  },
  {
   "cell_type": "code",
   "execution_count": 10,
   "id": "61d6ce7a",
   "metadata": {},
   "outputs": [],
   "source": [
    "df.drop(columns = 'studio_count', inplace = True)"
   ]
  },
  {
   "cell_type": "markdown",
   "id": "feb5462f",
   "metadata": {},
   "source": [
    "# Grouping studios that have small production count into 1 category: \"few_production_studio\""
   ]
  },
  {
   "cell_type": "code",
   "execution_count": 11,
   "id": "21edd247",
   "metadata": {},
   "outputs": [
    {
     "data": {
      "text/plain": [
       "1386"
      ]
     },
     "execution_count": 11,
     "metadata": {},
     "output_type": "execute_result"
    }
   ],
   "source": [
    "df.shape[1]"
   ]
  },
  {
   "cell_type": "code",
   "execution_count": 12,
   "id": "84131172",
   "metadata": {},
   "outputs": [],
   "source": [
    "studios = list(df.columns)\n",
    "studios.remove('title')"
   ]
  },
  {
   "cell_type": "code",
   "execution_count": 13,
   "id": "c37f1c6c",
   "metadata": {},
   "outputs": [],
   "source": [
    "few_production_studios = []\n",
    "for studio in studios:\n",
    "    if len(df[(df[studio] == 1)]) <= 2:\n",
    "        few_production_studios.append(studio)"
   ]
  },
  {
   "cell_type": "code",
   "execution_count": 14,
   "id": "1d5f8d09",
   "metadata": {},
   "outputs": [
    {
     "data": {
      "text/plain": [
       "656"
      ]
     },
     "execution_count": 14,
     "metadata": {},
     "output_type": "execute_result"
    }
   ],
   "source": [
    "len(few_production_studios)"
   ]
  },
  {
   "cell_type": "code",
   "execution_count": 15,
   "id": "57b184c9",
   "metadata": {},
   "outputs": [],
   "source": [
    "df['few_production_studio'] = df[few_production_studios].sum(axis = 1)"
   ]
  },
  {
   "cell_type": "code",
   "execution_count": 16,
   "id": "aa903d58",
   "metadata": {},
   "outputs": [],
   "source": [
    "df.at[df[df['few_production_studio']>1].index, 'few_production_studio'] = 1"
   ]
  },
  {
   "cell_type": "code",
   "execution_count": 17,
   "id": "87663407",
   "metadata": {},
   "outputs": [
    {
     "data": {
      "text/plain": [
       "1387"
      ]
     },
     "execution_count": 17,
     "metadata": {},
     "output_type": "execute_result"
    }
   ],
   "source": [
    "df.shape[1]"
   ]
  },
  {
   "cell_type": "code",
   "execution_count": 18,
   "id": "cdf51bcb",
   "metadata": {
    "scrolled": true
   },
   "outputs": [],
   "source": [
    "df.drop(few_production_studios, axis = 1, inplace = True)"
   ]
  },
  {
   "cell_type": "code",
   "execution_count": 19,
   "id": "e9fe050c",
   "metadata": {
    "scrolled": true
   },
   "outputs": [
    {
     "data": {
      "text/plain": [
       "731"
      ]
     },
     "execution_count": 19,
     "metadata": {},
     "output_type": "execute_result"
    }
   ],
   "source": [
    "df.shape[1]"
   ]
  },
  {
   "cell_type": "markdown",
   "id": "93e49a2f",
   "metadata": {},
   "source": [
    "# Different names for the same studio"
   ]
  },
  {
   "cell_type": "markdown",
   "id": "5098019a",
   "metadata": {},
   "source": [
    "## Some examples:\n",
    "\n",
    "* \"production i.g., inc.\" vs \"production i.g.\"\n",
    "*\"toei animation co., ltd.\" vs \"toei animation \"\n",
    "*\"animate\" vs \"animate film\"\n",
    "*\"j.c. staff\" vs \"j.c.staff\""
   ]
  },
  {
   "cell_type": "code",
   "execution_count": 25,
   "id": "16742788",
   "metadata": {},
   "outputs": [],
   "source": [
    "common_factors = [\"co.\",\"inc.\",\"inc\",\"ltd.\",\"ltd\",\"corp.\",\"corp\",\"lab.\",\"lab\",\"film\",\"studio\",\"production\",\"animation\"]"
   ]
  },
  {
   "cell_type": "code",
   "execution_count": 26,
   "id": "973dca69",
   "metadata": {},
   "outputs": [],
   "source": [
    "def preprocess_studio_names(df, common_factors):\n",
    "    stripped_dict = {}\n",
    "    studios = list(df.columns)\n",
    "    studios.remove('title')\n",
    "    for studio in studios:\n",
    "        stripped = ''.join([w for w in ' '.join(studio.split(',')).split(' ') if w not in common_factors]).strip()\n",
    "        if stripped not in stripped_dict.keys():\n",
    "            stripped_dict[stripped] = [studio]\n",
    "        else:\n",
    "            stripped_dict[stripped].append(studio)\n",
    "    \n",
    "    grouped =[]\n",
    "    count = 0\n",
    "    for stripped_studio in stripped_dict.keys():\n",
    "        if len(stripped_dict[stripped_studio]) >1:\n",
    "            grouped.append(stripped_dict[stripped_studio])\n",
    "            count += len(stripped_dict[stripped_studio])\n",
    "    print(count, len(grouped))\n",
    "\n",
    "    return grouped"
   ]
  },
  {
   "cell_type": "code",
   "execution_count": 27,
   "id": "074a91b1",
   "metadata": {},
   "outputs": [
    {
     "name": "stdout",
     "output_type": "stream",
     "text": [
      "239 118\n"
     ]
    }
   ],
   "source": [
    "groups = preprocess_studio_names(df, common_factors)"
   ]
  },
  {
   "cell_type": "code",
   "execution_count": 28,
   "id": "b810ebf5",
   "metadata": {
    "scrolled": true
   },
   "outputs": [
    {
     "data": {
      "text/plain": [
       "[['wit studio', 'wit studio, inc.'],\n",
       " ['madhouse', 'madhouse inc.'],\n",
       " ['bones', 'bones inc.'],\n",
       " ['ufotable', 'ufotable, inc.'],\n",
       " ['a-1 pictures', 'a-1 pictures inc.'],\n",
       " ['studio pierrot', 'pierrot co., ltd.'],\n",
       " ['mappa', 'mappa co., ltd.'],\n",
       " ['kyoto animation', 'kyoto animation co., ltd.'],\n",
       " ['j.c. staff', 'j.c.staff'],\n",
       " ['toei animation', 'toei animation co., ltd.'],\n",
       " ['tms entertainment', 'tms entertainment co., ltd.'],\n",
       " ['studio deen', 'studio deen co., ltd.'],\n",
       " ['trigger', 'trigger inc.'],\n",
       " ['p.a. works', 'p.a. works co., ltd.'],\n",
       " ['sunrise', 'sunrise inc.'],\n",
       " ['david production', 'david production inc.'],\n",
       " ['gainax', 'gainax co., ltd.'],\n",
       " ['tatsunoko production', 'tatsunoko production co., ltd.'],\n",
       " ['kinema citrus', 'kinema citrus co., ltd.'],\n",
       " ['satelight', 'satelight inc.'],\n",
       " ['shaft', 'shaft inc.'],\n",
       " ['lidenfilms', 'liden films inc.'],\n",
       " ['telecom animation film', 'telecom animation film co., ltd.'],\n",
       " ['studio voln', 'studio voln co., ltd.'],\n",
       " ['bandai namco pictures', 'bandai namco pictures inc.'],\n",
       " ['tezuka productions', 'tezuka productions co., ltd.'],\n",
       " ['manglobe', 'manglobe inc.'],\n",
       " ['orange', 'orange co., ltd.'],\n",
       " ['diomedéa', 'diomedéa inc.'],\n",
       " ['seven arcs', 'seven arcs ltd.'],\n",
       " ['shuka', 'shuka inc.'],\n",
       " ['zero-g', 'zero-g, inc.'],\n",
       " ['triangle staff', 'triangle staff corp.'],\n",
       " ['imagin', 'imagin co., ltd.'],\n",
       " ['bridge', 'bridge inc.'],\n",
       " ['artland', 'artland inc.', 'animation studio artland inc.'],\n",
       " ['ajiado', 'ajiado co.,ltd.'],\n",
       " ['studio 3hz', '3hz inc.'],\n",
       " ['graphinica', 'graphinica, inc.'],\n",
       " ['zexcs', 'zexcs inc.'],\n",
       " ['passione', 'passione co., ltd.'],\n",
       " ['studio colorido', 'studio colorido co., ltd.'],\n",
       " ['production ims', 'production ims co., ltd.'],\n",
       " ['olm', 'olm, inc.'],\n",
       " ['signal.md', 'signal.md, inc.'],\n",
       " ['troyca', 'troyca inc.'],\n",
       " ['naz', 'naz inc.'],\n",
       " ['studio silver', 'silver'],\n",
       " ['hoods entertainment', 'hoods entertainment inc.'],\n",
       " ['studio khara', 'khara'],\n",
       " ['gemba', 'gemba inc.'],\n",
       " ['lay-duce', 'lay-duce inc.'],\n",
       " ['studio puyukai', 'studio pu yukai'],\n",
       " ['nippon animation', 'nippon animation co., ltd.'],\n",
       " ['geno studio', 'geno studio inc.'],\n",
       " ['okuruto noboru', 'okuruto noboru inc.'],\n",
       " ['seven', 'animation studio seven'],\n",
       " ['studio gallop', 'gallop co., ltd.', 'gallop'],\n",
       " ['g.cmay animation & film', 'g.cmay animation & film co., ltd'],\n",
       " ['platinum vision', 'platinumvision co., ltd.'],\n",
       " ['actas', 'actas inc.'],\n",
       " ['ordet', 'ordet co., ltd'],\n",
       " ['sanzigen', 'sanzigen inc.'],\n",
       " ['hal film maker', 'hal film maker inc.'],\n",
       " ['kamikaze douga', 'kamikazedouga co., ltd.'],\n",
       " ['nomad', 'nomad inc.'],\n",
       " ['studio comet', 'studio comet co., ltd.'],\n",
       " ['maho film', 'maho film co., ltd.'],\n",
       " ['fanworks', 'fanworks inc.'],\n",
       " ['creators in pack', 'creators in pack inc.'],\n",
       " ['synergysp', 'synergysp co. ,ltd.'],\n",
       " ['studio hibari', 'studio hibari co., ltd.'],\n",
       " ['vega entertainment', 'vega entertainment co., ltd.'],\n",
       " ['dle', 'dle inc.'],\n",
       " ['studio kai', 'studio kai inc.'],\n",
       " ['gaina', 'gaina co., ltd.'],\n",
       " ['larx entertainment', 'larx entertainment co., ltd.'],\n",
       " ['yaoyorozu', 'yaoyorozu co., ltd.'],\n",
       " ['e&g films', 'e&g films co., ltd.'],\n",
       " ['picture magic', 'picture magic inc.'],\n",
       " ['studio fantasia', 'studio fantasia co., ltd.'],\n",
       " ['shirogumi', 'shirogumi inc.'],\n",
       " ['group tac', 'group tac co., ltd.'],\n",
       " ['gathering', 'gathering co., ltd.'],\n",
       " ['digital frontier', 'digital frontier inc.'],\n",
       " ['dandelion animation studio', 'dandelion animation studio inc'],\n",
       " ['dmm.futureworks', 'dmm.futureworks co., ltd.'],\n",
       " ['imagica lab.', 'imagica lab. inc.'],\n",
       " ['yostar pictures', 'yostar pictures inc.'],\n",
       " ['magic bus', 'magic bus inc.'],\n",
       " ['craftar', 'craftar inc.'],\n",
       " ['tokyo kids', 'tokyo kids co.,ltd.'],\n",
       " ['the answer studio', 'the answer studio co., ltd.'],\n",
       " ['studio anima', 'anima inc.'],\n",
       " ['kanaban graphics', 'kanaban graphics ltd.'],\n",
       " ['studio live', 'studio live co., ltd.'],\n",
       " ['space neko company', 'space neko company ltd.'],\n",
       " ['animate film', 'animate'],\n",
       " ['sparkly key animation', 'sparkly key animation studio'],\n",
       " ['eiken', 'eiken co., ltd.'],\n",
       " ['phoenix entertainment', 'phoenix entertainment ltd.'],\n",
       " ['mook animation', 'mook animation inc.'],\n",
       " ['10gauge', '10gauge co., ltd.'],\n",
       " ['grouper productions', 'grouper productions ltd.'],\n",
       " ['studio egg', 'egg', 'egg inc.'],\n",
       " ['pie in the sky', 'pie in the sky, inc'],\n",
       " ['milky cartoon', 'milky cartoon co., ltd.'],\n",
       " ['trinet entertainment', 'trinet entertainment, inc.'],\n",
       " ['asura film', 'asura film co., ltd.'],\n",
       " ['production reed', 'production reed co., ltd.'],\n",
       " ['heewon entertainment', 'heewon entertainment inc.'],\n",
       " ['digital media lab', 'digital media lab., inc.'],\n",
       " ['comix wave films inc.', 'comix wave films'],\n",
       " ['mushi production co., ltd.', 'mushi production'],\n",
       " ['seven arcs pictures ltd.', 'seven arcs pictures'],\n",
       " ['sugarboy', 'sugar boy'],\n",
       " ['olm digital, inc.', 'olm digital'],\n",
       " ['usagiou inc.', 'usagi ou']]"
      ]
     },
     "execution_count": 28,
     "metadata": {},
     "output_type": "execute_result"
    }
   ],
   "source": [
    "groups"
   ]
  },
  {
   "cell_type": "code",
   "execution_count": 30,
   "id": "3ddfddc9",
   "metadata": {
    "scrolled": false
   },
   "outputs": [
    {
     "name": "stdout",
     "output_type": "stream",
     "text": [
      "wit studio OR wit studio, inc. ?\n",
      "0\n",
      "madhouse OR madhouse inc. ?\n",
      "0\n",
      "bones OR bones inc. ?\n",
      "0\n",
      "ufotable OR ufotable, inc. ?\n",
      "0\n",
      "a-1 pictures OR a-1 pictures inc. ?\n",
      "0\n",
      "studio pierrot OR pierrot co., ltd. ?\n",
      "0\n",
      "mappa OR mappa co., ltd. ?\n",
      "0\n",
      "kyoto animation OR kyoto animation co., ltd. ?\n",
      "0\n",
      "j.c. staff OR j.c.staff ?\n",
      "1\n",
      "toei animation OR toei animation co., ltd. ?\n",
      "0\n",
      "tms entertainment OR tms entertainment co., ltd. ?\n",
      "0\n",
      "studio deen OR studio deen co., ltd. ?\n",
      "0\n",
      "trigger OR trigger inc. ?\n",
      "0\n",
      "p.a. works OR p.a. works co., ltd. ?\n",
      "0\n",
      "sunrise OR sunrise inc. ?\n",
      "0\n",
      "david production OR david production inc. ?\n",
      "0\n",
      "gainax OR gainax co., ltd. ?\n",
      "0\n",
      "tatsunoko production OR tatsunoko production co., ltd. ?\n",
      "0\n",
      "kinema citrus OR kinema citrus co., ltd. ?\n",
      "0\n",
      "satelight OR satelight inc. ?\n",
      "0\n",
      "shaft OR shaft inc. ?\n",
      "0\n",
      "lidenfilms OR liden films inc. ?\n",
      "0\n",
      "telecom animation film OR telecom animation film co., ltd. ?\n",
      "0\n",
      "studio voln OR studio voln co., ltd. ?\n",
      "0\n",
      "bandai namco pictures OR bandai namco pictures inc. ?\n",
      "0\n",
      "tezuka productions OR tezuka productions co., ltd. ?\n",
      "0\n",
      "manglobe OR manglobe inc. ?\n",
      "0\n",
      "orange OR orange co., ltd. ?\n",
      "0\n",
      "diomedéa OR diomedéa inc. ?\n",
      "0\n",
      "seven arcs OR seven arcs ltd. ?\n",
      "0\n",
      "shuka OR shuka inc. ?\n",
      "0\n",
      "zero-g OR zero-g, inc. ?\n",
      "0\n",
      "triangle staff OR triangle staff corp. ?\n",
      "0\n",
      "imagin OR imagin co., ltd. ?\n",
      "0\n",
      "bridge OR bridge inc. ?\n",
      "0\n",
      "artland OR artland inc. OR animation studio artland inc. ?\n",
      "0\n",
      "ajiado OR ajiado co.,ltd. ?\n",
      "0\n",
      "studio 3hz OR 3hz inc. ?\n",
      "0\n",
      "graphinica OR graphinica, inc. ?\n",
      "0\n",
      "zexcs OR zexcs inc. ?\n",
      "0\n",
      "passione OR passione co., ltd. ?\n",
      "0\n",
      "studio colorido OR studio colorido co., ltd. ?\n",
      "0\n",
      "production ims OR production ims co., ltd. ?\n",
      "0\n",
      "olm OR olm, inc. ?\n",
      "0\n",
      "signal.md OR signal.md, inc. ?\n",
      "0\n",
      "troyca OR troyca inc. ?\n",
      "0\n",
      "naz OR naz inc. ?\n",
      "0\n",
      "studio silver OR silver ?\n",
      "1\n",
      "hoods entertainment OR hoods entertainment inc. ?\n",
      "0\n",
      "studio khara OR khara ?\n",
      "1\n",
      "gemba OR gemba inc. ?\n",
      "0\n",
      "lay-duce OR lay-duce inc. ?\n",
      "0\n",
      "studio puyukai OR studio pu yukai ?\n",
      "0\n",
      "nippon animation OR nippon animation co., ltd. ?\n",
      "0\n",
      "geno studio OR geno studio inc. ?\n",
      "0\n",
      "okuruto noboru OR okuruto noboru inc. ?\n",
      "0\n",
      "seven OR animation studio seven ?\n",
      "0\n",
      "studio gallop OR gallop co., ltd. OR gallop ?\n",
      "0\n",
      "g.cmay animation & film OR g.cmay animation & film co., ltd ?\n",
      "0\n",
      "platinum vision OR platinumvision co., ltd. ?\n",
      "0\n",
      "actas OR actas inc. ?\n",
      "0\n",
      "ordet OR ordet co., ltd ?\n",
      "0\n",
      "sanzigen OR sanzigen inc. ?\n",
      "0\n",
      "hal film maker OR hal film maker inc. ?\n",
      "0\n",
      "kamikaze douga OR kamikazedouga co., ltd. ?\n",
      "0\n",
      "nomad OR nomad inc. ?\n",
      "0\n",
      "studio comet OR studio comet co., ltd. ?\n",
      "0\n",
      "maho film OR maho film co., ltd. ?\n",
      "0\n",
      "fanworks OR fanworks inc. ?\n",
      "0\n",
      "creators in pack OR creators in pack inc. ?\n",
      "0\n",
      "synergysp OR synergysp co. ,ltd. ?\n",
      "0\n",
      "studio hibari OR studio hibari co., ltd. ?\n",
      "0\n",
      "vega entertainment OR vega entertainment co., ltd. ?\n",
      "0\n",
      "dle OR dle inc. ?\n",
      "0\n",
      "studio kai OR studio kai inc. ?\n",
      "0\n",
      "gaina OR gaina co., ltd. ?\n",
      "0\n",
      "larx entertainment OR larx entertainment co., ltd. ?\n",
      "0\n",
      "yaoyorozu OR yaoyorozu co., ltd. ?\n",
      "0\n",
      "e&g films OR e&g films co., ltd. ?\n",
      "0\n",
      "picture magic OR picture magic inc. ?\n",
      "0\n",
      "studio fantasia OR studio fantasia co., ltd. ?\n",
      "0\n",
      "shirogumi OR shirogumi inc. ?\n",
      "0\n",
      "group tac OR group tac co., ltd. ?\n",
      "0\n",
      "gathering OR gathering co., ltd. ?\n",
      "0\n",
      "digital frontier OR digital frontier inc. ?\n",
      "0\n",
      "dandelion animation studio OR dandelion animation studio inc ?\n",
      "0\n",
      "dmm.futureworks OR dmm.futureworks co., ltd. ?\n",
      "0\n",
      "imagica lab. OR imagica lab. inc. ?\n",
      "0\n",
      "yostar pictures OR yostar pictures inc. ?\n",
      "0\n",
      "magic bus OR magic bus inc. ?\n",
      "0\n",
      "craftar OR craftar inc. ?\n",
      "0\n",
      "tokyo kids OR tokyo kids co.,ltd. ?\n",
      "0\n",
      "the answer studio OR the answer studio co., ltd. ?\n",
      "0\n",
      "studio anima OR anima inc. ?\n",
      "0\n",
      "kanaban graphics OR kanaban graphics ltd. ?\n",
      "0\n",
      "studio live OR studio live co., ltd. ?\n",
      "0\n",
      "space neko company OR space neko company ltd. ?\n",
      "0\n",
      "animate film OR animate ?\n",
      "1\n",
      "sparkly key animation OR sparkly key animation studio ?\n",
      "0\n",
      "eiken OR eiken co., ltd. ?\n",
      "0\n",
      "phoenix entertainment OR phoenix entertainment ltd. ?\n",
      "0\n",
      "mook animation OR mook animation inc. ?\n",
      "0\n",
      "10gauge OR 10gauge co., ltd. ?\n",
      "0\n",
      "grouper productions OR grouper productions ltd. ?\n",
      "0\n",
      "studio egg OR egg OR egg inc. ?\n",
      "1\n",
      "pie in the sky OR pie in the sky, inc ?\n",
      "0\n",
      "milky cartoon OR milky cartoon co., ltd. ?\n",
      "0\n",
      "trinet entertainment OR trinet entertainment, inc. ?\n",
      "0\n",
      "asura film OR asura film co., ltd. ?\n",
      "0\n",
      "production reed OR production reed co., ltd. ?\n",
      "0\n",
      "heewon entertainment OR heewon entertainment inc. ?\n",
      "0\n",
      "digital media lab OR digital media lab., inc. ?\n",
      "0\n",
      "comix wave films inc. OR comix wave films ?\n",
      "1\n",
      "mushi production co., ltd. OR mushi production ?\n",
      "1\n",
      "seven arcs pictures ltd. OR seven arcs pictures ?\n",
      "1\n",
      "sugarboy OR sugar boy ?\n",
      "0\n",
      "olm digital, inc. OR olm digital ?\n",
      "1\n",
      "usagiou inc. OR usagi ou ?\n",
      "1\n"
     ]
    }
   ],
   "source": [
    "for group in groups:\n",
    "    ask_msg = ' OR '.join(group) +\" ?\"\n",
    "    print(ask_msg)\n",
    "    ind = int(input())\n",
    "    ref = group.pop(ind)\n",
    "    for studio in group:\n",
    "        df.at[df[df[studio] == 1].index, ref] = 1\n",
    "        df.drop(columns = studio, inplace = True)"
   ]
  },
  {
   "cell_type": "markdown",
   "id": "84e00b9e",
   "metadata": {},
   "source": [
    "# Save preprocessed data"
   ]
  },
  {
   "cell_type": "code",
   "execution_count": 31,
   "id": "643840cb",
   "metadata": {},
   "outputs": [
    {
     "data": {
      "text/plain": [
       "(16070, 610)"
      ]
     },
     "execution_count": 31,
     "metadata": {},
     "output_type": "execute_result"
    }
   ],
   "source": [
    "df.shape"
   ]
  },
  {
   "cell_type": "code",
   "execution_count": 32,
   "id": "23d63927",
   "metadata": {},
   "outputs": [],
   "source": [
    "df.to_csv(\"../data/csv/title_studios_preprocessed.csv\", index=False)"
   ]
  }
 ],
 "metadata": {
  "kernelspec": {
   "display_name": "Python 3",
   "language": "python",
   "name": "python3"
  },
  "language_info": {
   "codemirror_mode": {
    "name": "ipython",
    "version": 3
   },
   "file_extension": ".py",
   "mimetype": "text/x-python",
   "name": "python",
   "nbconvert_exporter": "python",
   "pygments_lexer": "ipython3",
   "version": "3.8.8"
  }
 },
 "nbformat": 4,
 "nbformat_minor": 5
}
